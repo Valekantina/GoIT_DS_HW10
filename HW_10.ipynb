{
 "cells": [
  {
   "cell_type": "code",
   "execution_count": 3,
   "id": "208b66de",
   "metadata": {},
   "outputs": [
    {
     "name": "stdout",
     "output_type": "stream",
     "text": [
      "Requirement already satisfied: surprise in /Users/V/opt/anaconda3/lib/python3.9/site-packages (0.1)\n",
      "Requirement already satisfied: scikit-surprise in /Users/V/opt/anaconda3/lib/python3.9/site-packages (from surprise) (1.1.4)\n",
      "Requirement already satisfied: scipy>=1.6.0 in /Users/V/opt/anaconda3/lib/python3.9/site-packages (from scikit-surprise->surprise) (1.7.3)\n",
      "Requirement already satisfied: joblib>=1.2.0 in /Users/V/opt/anaconda3/lib/python3.9/site-packages (from scikit-surprise->surprise) (1.4.2)\n",
      "Requirement already satisfied: numpy>=1.19.5 in /Users/V/opt/anaconda3/lib/python3.9/site-packages (from scikit-surprise->surprise) (1.21.5)\n",
      "Note: you may need to restart the kernel to use updated packages.\n"
     ]
    }
   ],
   "source": [
    "pip install surprise"
   ]
  },
  {
   "cell_type": "code",
   "execution_count": 4,
   "id": "38f99161",
   "metadata": {},
   "outputs": [
    {
     "name": "stdout",
     "output_type": "stream",
     "text": [
      "Dataset ml-100k could not be found. Do you want to download it? [Y/n] y\n",
      "Trying to download dataset from https://files.grouplens.org/datasets/movielens/ml-100k.zip...\n",
      "Done! Dataset ml-100k has been saved to /Users/V/.surprise_data/ml-100k\n"
     ]
    },
    {
     "data": {
      "text/plain": [
       "<surprise.dataset.DatasetAutoFolds at 0x7fd0562bbfd0>"
      ]
     },
     "execution_count": 4,
     "metadata": {},
     "output_type": "execute_result"
    }
   ],
   "source": [
    "import pandas as pd\n",
    "import numpy as np\n",
    "from surprise import Dataset, Reader\n",
    "from surprise import SVDpp, SVD, NMF\n",
    "from surprise.model_selection import train_test_split, cross_validate, GridSearchCV\n",
    "from surprise import accuracy\n",
    "\n",
    "\n",
    "data = Dataset.load_builtin('ml-100k')\n",
    "data"
   ]
  },
  {
   "cell_type": "code",
   "execution_count": 5,
   "id": "3cc0ba93",
   "metadata": {},
   "outputs": [
    {
     "name": "stdout",
     "output_type": "stream",
     "text": [
      "Evaluating RMSE, MAE of algorithm SVD on 5 split(s).\n",
      "\n",
      "                  Fold 1  Fold 2  Fold 3  Fold 4  Fold 5  Mean    Std     \n",
      "RMSE (testset)    0.9332  0.9316  0.9306  0.9340  0.9437  0.9346  0.0047  \n",
      "MAE (testset)     0.7371  0.7328  0.7330  0.7375  0.7445  0.7370  0.0043  \n",
      "Fit time          0.97    1.15    0.85    0.80    0.80    0.91    0.13    \n",
      "Test time         0.28    0.19    0.11    0.16    0.11    0.17    0.06    \n",
      "Mean RMSE: 0.9346\n",
      "Mean MAE: 0.7370\n",
      "Mean fit time: 0.9142\n",
      "Mean test time: 0.1719\n"
     ]
    }
   ],
   "source": [
    "\n",
    "# Run 5-fold cross-validation SVD and print results.\n",
    "cvd_results = cross_validate(SVD(), data, measures=['RMSE', 'MAE'], cv=5, verbose=True)\n",
    "\n",
    "print(\"Mean RMSE: {:.4f}\".format(np.mean(cvd_results['test_rmse'])))\n",
    "print(\"Mean MAE: {:.4f}\".format(np.mean(cvd_results['test_mae'])))\n",
    "print(\"Mean fit time: {:.4f}\".format(np.mean(cvd_results['fit_time'])))\n",
    "print(\"Mean test time: {:.4f}\".format(np.mean(cvd_results['test_time'])))"
   ]
  },
  {
   "cell_type": "code",
   "execution_count": 6,
   "id": "c1656b3c",
   "metadata": {},
   "outputs": [
    {
     "name": "stdout",
     "output_type": "stream",
     "text": [
      "Evaluating RMSE, MAE of algorithm SVDpp on 5 split(s).\n",
      "\n",
      "                  Fold 1  Fold 2  Fold 3  Fold 4  Fold 5  Mean    Std     \n",
      "RMSE (testset)    0.9266  0.9132  0.9201  0.9159  0.9235  0.9199  0.0049  \n",
      "MAE (testset)     0.7281  0.7158  0.7216  0.7170  0.7246  0.7214  0.0046  \n",
      "Fit time          16.03   14.96   14.74   14.58   14.76   15.01   0.52    \n",
      "Test time         3.36    3.50    3.19    3.45    3.26    3.35    0.12    \n",
      "Mean RMSE: 0.9199\n",
      "Mean MAE: 0.7214\n",
      "Mean fit time: 15.0138\n",
      "Mean test time: 3.3499\n"
     ]
    }
   ],
   "source": [
    "# Run 5-fold cross-validation SVDpp and print results.\n",
    "cvdpp_results = cross_validate(SVDpp(), data, measures=['RMSE', 'MAE'], cv=5, verbose=True)\n",
    "\n",
    "print(\"Mean RMSE: {:.4f}\".format(np.mean(cvdpp_results['test_rmse'])))\n",
    "print(\"Mean MAE: {:.4f}\".format(np.mean(cvdpp_results['test_mae'])))\n",
    "print(\"Mean fit time: {:.4f}\".format(np.mean(cvdpp_results['fit_time'])))\n",
    "print(\"Mean test time: {:.4f}\".format(np.mean(cvdpp_results['test_time'])))\n",
    "     "
   ]
  },
  {
   "cell_type": "code",
   "execution_count": 7,
   "id": "6ccee817",
   "metadata": {},
   "outputs": [
    {
     "name": "stdout",
     "output_type": "stream",
     "text": [
      "Evaluating RMSE, MAE of algorithm NMF on 5 split(s).\n",
      "\n",
      "                  Fold 1  Fold 2  Fold 3  Fold 4  Fold 5  Mean    Std     \n",
      "RMSE (testset)    0.9602  0.9700  0.9640  0.9697  0.9593  0.9646  0.0045  \n",
      "MAE (testset)     0.7553  0.7623  0.7555  0.7635  0.7542  0.7582  0.0039  \n",
      "Fit time          1.57    1.68    1.50    1.68    1.72    1.63    0.08    \n",
      "Test time         0.17    0.11    0.16    0.11    0.17    0.15    0.03    \n",
      "Mean RMSE: 0.9646\n",
      "Mean MAE: 0.7582\n",
      "Mean fit time: 1.6315\n",
      "Mean test time: 0.1460\n"
     ]
    }
   ],
   "source": [
    "# Run 5-fold cross-validation NMF and print results.\n",
    "nmf_results = cross_validate(NMF(), data, measures=['rmse', 'mae'], cv=5, verbose=True)\n",
    "\n",
    "print(\"Mean RMSE: {:.4f}\".format(np.mean(nmf_results['test_rmse'])))\n",
    "print(\"Mean MAE: {:.4f}\".format(np.mean(nmf_results['test_mae'])))\n",
    "print(\"Mean fit time: {:.4f}\".format(np.mean(nmf_results['fit_time'])))\n",
    "print(\"Mean test time: {:.4f}\".format(np.mean(nmf_results['test_time'])))"
   ]
  },
  {
   "cell_type": "code",
   "execution_count": 8,
   "id": "5c8b41ed",
   "metadata": {},
   "outputs": [
    {
     "name": "stdout",
     "output_type": "stream",
     "text": [
      "Найкращий алгоритм: SVD++ з RMSE = 0.9199\n"
     ]
    }
   ],
   "source": [
    "\n",
    "rmse_results = {\n",
    "    'SVD': np.mean(cvd_results['test_rmse']),\n",
    "    'SVD++': np.mean(cvdpp_results['test_rmse']),\n",
    "    'NMF': np.mean(nmf_results['test_rmse'])\n",
    "}\n",
    "\n",
    "# Визначення алгоритму з найменшим RMSE\n",
    "best_algorithm = min(rmse_results, key=rmse_results.get)\n",
    "\n",
    "print(f\"Найкращий алгоритм: {best_algorithm} з RMSE = {rmse_results[best_algorithm]:.4f}\")\n"
   ]
  },
  {
   "cell_type": "code",
   "execution_count": 9,
   "id": "f1ca10cd",
   "metadata": {},
   "outputs": [
    {
     "data": {
      "image/png": "[encoded data removed]",
      "text/plain": [
       "<Figure size 1000x700 with 1 Axes>"
      ]
     },
     "metadata": {},
     "output_type": "display_data"
    }
   ],
   "source": [
    "import matplotlib.pyplot as plt\n",
    "\n",
    "metrics = ['RMSE', 'MAE', 'Fit Time', 'Test Time']\n",
    "values_svd = [np.mean(cvd_results['test_rmse']),\n",
    "              np.mean(cvd_results['test_mae']),\n",
    "              np.mean(cvd_results['fit_time']),\n",
    "              np.mean(cvd_results['test_time'])]\n",
    "\n",
    "values_svdpp = [np.mean(cvdpp_results['test_rmse']),\n",
    "                np.mean(cvdpp_results['test_mae']),\n",
    "                np.mean(cvdpp_results['fit_time']),\n",
    "                np.mean(cvdpp_results['test_time'])]\n",
    "\n",
    "values_nmf = [np.mean(nmf_results['test_rmse']),\n",
    "              np.mean(nmf_results['test_mae']),\n",
    "              np.mean(nmf_results['fit_time']),\n",
    "              np.mean(nmf_results['test_time'])]\n",
    "\n",
    "bar_width = 0.25\n",
    "r1 = np.arange(len(values_svd))\n",
    "r2 = [x + bar_width for x in r1]\n",
    "r3 = [x + bar_width for x in r2]\n",
    "\n",
    "plt.figure(figsize=(10,7))\n",
    "plt.bar(r1, values_svd, width=bar_width, color='blue', edgecolor='grey', label='SVD')\n",
    "plt.bar(r2, values_svdpp, width=bar_width, color='red', edgecolor='grey', label='SVD++')\n",
    "plt.bar(r3, values_nmf, width=bar_width, color='green', edgecolor='grey', label='NMF')\n",
    "\n",
    "plt.title('Comparison of SVD, SVD++ and NMF', fontweight='bold')\n",
    "plt.xlabel('Metrics', fontweight='bold')\n",
    "plt.ylabel('Values', fontweight='bold')\n",
    "plt.xticks([r + bar_width for r in range(len(values_svd))], metrics)\n",
    "plt.legend()\n",
    "\n",
    "plt.tight_layout()\n",
    "plt.show()"
   ]
  },
  {
   "cell_type": "markdown",
   "id": "75b0f89c",
   "metadata": {},
   "source": [
    "SVD++ маює найнижчі значення RMSE та MAE, але він найбільш витратний по часу виконання."
   ]
  },
  {
   "cell_type": "code",
   "execution_count": null,
   "id": "0b4c3983",
   "metadata": {},
   "outputs": [],
   "source": []
  }
 ],
 "metadata": {
  "kernelspec": {
   "display_name": "Python 3 (ipykernel)",
   "language": "python",
   "name": "python3"
  },
  "language_info": {
   "codemirror_mode": {
    "name": "ipython",
    "version": 3
   },
   "file_extension": ".py",
   "mimetype": "text/x-python",
   "name": "python",
   "nbconvert_exporter": "python",
   "pygments_lexer": "ipython3",
   "version": "3.9.16"
  }
 },
 "nbformat": 4,
 "nbformat_minor": 5
}
